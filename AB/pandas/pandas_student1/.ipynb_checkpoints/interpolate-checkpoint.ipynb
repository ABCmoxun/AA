{
 "cells": [
  {
   "cell_type": "code",
   "execution_count": null,
   "metadata": {},
   "outputs": [],
   "source": [
    "import numpy as np\n",
    "from scipy.interpolate import interp1d\n",
    "import matplotlib.pyplot as plt\n",
    "#创建待插值的数据\n",
    "x = np.linspace(0, 10*np.pi, 20)\n",
    "y = np.cos(x)\n",
    "# 分别用linear和quadratic插值\n",
    "fl = interp1d(x, y, kind='linear')\n",
    "fq = interp1d(x, y, kind='quadratic')\n",
    "#设置x的最大值和最小值以防止插值数据越界\n",
    "xint = np.linspace(x.min(), x.max(), 1000)\n",
    "yintl = fl(xint)\n",
    "yintq = fq(xint)\n",
    "# 线性插值和二阶插值效果\n",
    "plt.plot(x,y,color='pink')\n",
    "# plt.plot(xint,yintl, color=\"green\", label = \"Linear\")\n",
    "# plt.plot(xint,yintq, color=\"yellow\", label =\"Quadratic\")\n",
    "plt.show()\n"
   ]
  }
 ],
 "metadata": {
  "kernelspec": {
   "display_name": "Python 3",
   "language": "python",
   "name": "python3"
  },
  "language_info": {
   "codemirror_mode": {
    "name": "ipython",
    "version": 3
   },
   "file_extension": ".py",
   "mimetype": "text/x-python",
   "name": "python",
   "nbconvert_exporter": "python",
   "pygments_lexer": "ipython3",
   "version": "3.6.4"
  }
 },
 "nbformat": 4,
 "nbformat_minor": 2
}
