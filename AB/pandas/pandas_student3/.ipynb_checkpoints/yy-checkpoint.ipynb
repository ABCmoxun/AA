{
 "cells": [
  {
   "cell_type": "markdown",
   "metadata": {},
   "source": [
    "* 第一节课"
   ]
  },
  {
   "cell_type": "markdown",
   "metadata": {},
   "source": [
    ", 1\n",
    ", 2\n",
    ", 3\n"
   ]
  },
  {
   "cell_type": "markdown",
   "metadata": {},
   "source": [
    "1. 第一次课\n",
    "2. 第二次课\n",
    "3. 第三次课"
   ]
  },
  {
   "cell_type": "markdown",
   "metadata": {},
   "source": [
    "**movielens数据分析与可视化**"
   ]
  },
  {
   "cell_type": "markdown",
   "metadata": {},
   "source": [
    "__movielens数据分析与可视化__"
   ]
  },
  {
   "cell_type": "markdown",
   "metadata": {},
   "source": [
    "***movielens数据分析与可视化***"
   ]
  },
  {
   "cell_type": "markdown",
   "metadata": {},
   "source": [
    "___movielens数据分析与可视化___"
   ]
  },
  {
   "cell_type": "markdown",
   "metadata": {},
   "source": [
    "<h1>movielens数据分析与可视化</h1>"
   ]
  },
  {
   "cell_type": "markdown",
   "metadata": {},
   "source": [
    "python |R |MATLAB"
   ]
  },
  {
   "cell_type": "markdown",
   "metadata": {},
   "source": [
    "python |R | MATLAB  接口统一，学习曲线平缓 | 接口众多，学习曲面陡峭 |自由度大，学习曲线较为平缓  开源免费 | 开源免费 | 商业收费 |"
   ]
  },
  {
   "cell_type": "markdown",
   "metadata": {},
   "source": [
    "python |R | MATLAB |  ------------------ | --------------|------| 接口统一，学习曲线平缓 | 接口众多，学习曲面陡峭 |自由度大，学习曲线较为平缓 开源免费 | 开源免费 | 商业收费 |"
   ]
  },
  {
   "cell_type": "markdown",
   "metadata": {},
   "source": [
    "$E=mc^2$"
   ]
  },
  {
   "cell_type": "markdown",
   "metadata": {},
   "source": [
    "$$ z = \\frac{x}{y} $$"
   ]
  },
  {
   "cell_type": "markdown",
   "metadata": {},
   "source": [
    "python |R | MATLAB |  \n",
    "------------------ | --------------|------|   \n",
    "接口统一，学习曲线平缓 | 接口众多，学习曲面陡峭 |自由度大，学习曲线较为平缓 |  \n",
    "开源免费 | 开源免费 | 商业收费 |"
   ]
  }
 ],
 "metadata": {
  "kernelspec": {
   "display_name": "Python 3",
   "language": "python",
   "name": "python3"
  },
  "language_info": {
   "codemirror_mode": {
    "name": "ipython",
    "version": 3
   },
   "file_extension": ".py",
   "mimetype": "text/x-python",
   "name": "python",
   "nbconvert_exporter": "python",
   "pygments_lexer": "ipython3",
   "version": "3.6.3"
  }
 },
 "nbformat": 4,
 "nbformat_minor": 2
}
